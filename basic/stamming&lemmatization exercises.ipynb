{
 "cells": [
  {
   "cell_type": "code",
   "execution_count": 9,
   "metadata": {},
   "outputs": [],
   "source": [
    "import nltk\n",
    "import spacy"
   ]
  },
  {
   "cell_type": "code",
   "execution_count": 10,
   "metadata": {},
   "outputs": [],
   "source": [
    "from nltk.stem import PorterStemmer\n",
    "\n",
    "stemmer = PorterStemmer()"
   ]
  },
  {
   "cell_type": "code",
   "execution_count": 11,
   "metadata": {},
   "outputs": [
    {
     "name": "stdout",
     "output_type": "stream",
     "text": [
      "Stemming -> stem\n",
      "and -> and\n",
      "lemmatization -> lemmat\n",
      "are -> are\n",
      "two -> two\n",
      "popular -> popular\n",
      "techniques -> techniqu\n",
      "to -> to\n",
      "reduce -> reduc\n",
      "a -> a\n",
      "given -> given\n",
      "word -> word\n",
      "to -> to\n",
      "its -> it\n",
      "base -> base\n",
      "word -> word\n"
     ]
    }
   ],
   "source": [
    "words = ['Stemming', 'and', 'lemmatization', 'are', 'two', 'popular', 'techniques', 'to', 'reduce', 'a', 'given', 'word', 'to', 'its', 'base', 'word']\n",
    "\n",
    "for word in words:\n",
    "    print(word, '->', stemmer.stem(word))"
   ]
  },
  {
   "cell_type": "code",
   "execution_count": 12,
   "metadata": {},
   "outputs": [],
   "source": [
    "nlp = spacy.load('en_core_web_sm')"
   ]
  },
  {
   "cell_type": "code",
   "execution_count": 13,
   "metadata": {},
   "outputs": [
    {
     "name": "stdout",
     "output_type": "stream",
     "text": [
      "better -> well -> 4525988469032889948\n",
      "bro -> brother -> 18324768411243929287\n",
      "well -> well -> 4525988469032889948\n",
      "eat -> eat -> 9837207709914848172\n",
      "ate -> eat -> 9837207709914848172\n",
      "eating -> eat -> 9837207709914848172\n",
      "Bruh -> Bruh -> 18236043640873877560\n",
      "Bruh -> Bruh -> 18236043640873877560\n",
      "bruh -> brother -> 18324768411243929287\n",
      "eats -> eat -> 9837207709914848172\n",
      "good -> good -> 5711639017775284443\n",
      "Stemming -> Stemming -> 6910071893612894532\n",
      "uses -> use -> 6873750497785110593\n",
      "a -> a -> 11901859001352538922\n",
      "fixed -> fix -> 8299253805695106811\n"
     ]
    }
   ],
   "source": [
    "ar = nlp.get_pipe('attribute_ruler')\n",
    "\n",
    "ar.add([[{'TEXT':'bro'}],[{'TEXT':'bruh'}]],{'LEMMA':'brother'})\n",
    "\n",
    "ws = \"better bro well eat ate eating Bruh Bruh bruh eats good Stemming uses a fixed\"\n",
    "\n",
    "doc = nlp(ws)\n",
    "\n",
    "for w in doc:\n",
    "    print(w, '->',w.lemma_, '->', w.lemma)\n",
    "\n"
   ]
  },
  {
   "cell_type": "code",
   "execution_count": 1,
   "metadata": {},
   "outputs": [],
   "source": [
    "#let import necessary libraries and create the object\n",
    "\n",
    "#for nltk\n",
    "import nltk\n",
    "from nltk.stem import PorterStemmer\n",
    "stemmer = PorterStemmer()\n",
    "\n",
    "#downloading all neccessary packages related to nltk\n",
    "# nltk.download('all')\n",
    "\n",
    "#for spacy\n",
    "import spacy\n",
    "nlp = spacy.load(\"en_core_web_sm\")"
   ]
  },
  {
   "attachments": {},
   "cell_type": "markdown",
   "metadata": {},
   "source": [
    "Exercise1:\n",
    "\n",
    "Convert these list of words into base form using Stemming and Lemmatization and observe the transformations\n",
    "Write a short note on the words that have different base words using stemming and Lemmatization"
   ]
  },
  {
   "cell_type": "code",
   "execution_count": 15,
   "metadata": {},
   "outputs": [
    {
     "name": "stdout",
     "output_type": "stream",
     "text": [
      "running -> run\n",
      "painting -> paint\n",
      "walking -> walk\n",
      "dressing -> dress\n",
      "likely -> like\n",
      "children -> children\n",
      "whom -> whom\n",
      "good -> good\n",
      "ate -> ate\n",
      "fishing -> fish\n"
     ]
    }
   ],
   "source": [
    "#using stemming in nltk\n",
    "lst_words = ['running', 'painting', 'walking', 'dressing', 'likely', 'children', 'whom', 'good', 'ate', 'fishing']\n",
    "\n",
    "for word in lst_words:\n",
    "    print(word, '->', stemmer.stem(word))"
   ]
  },
  {
   "cell_type": "code",
   "execution_count": 4,
   "metadata": {},
   "outputs": [
    {
     "name": "stdout",
     "output_type": "stream",
     "text": [
      "run\n",
      "paint\n",
      "walk\n",
      "dress\n",
      "likely\n",
      "child\n",
      "who\n",
      "good\n",
      "eat\n",
      "fishing\n"
     ]
    }
   ],
   "source": [
    "#using lemmatization in spacy\n",
    "\n",
    "doc = nlp(\"running painting walking dressing likely children who good ate fishing\")\n",
    "\n",
    "for t in doc:\n",
    "    print(t.lemma_)"
   ]
  },
  {
   "attachments": {},
   "cell_type": "markdown",
   "metadata": {},
   "source": [
    "Exercise2:\n",
    "\n",
    "convert the given text into it's base form using both stemming and lemmatization\n"
   ]
  },
  {
   "cell_type": "code",
   "execution_count": 3,
   "metadata": {},
   "outputs": [],
   "source": [
    "text = \"\"\"Latha is very multi talented girl.She is good at many skills like dancing, running, singing, playing.She also likes eating Pav Bhagi. she has a \n",
    "habit of fishing and swimming too.Besides all this, she is a wonderful at cooking too.\n",
    "\"\"\""
   ]
  },
  {
   "cell_type": "code",
   "execution_count": 17,
   "metadata": {},
   "outputs": [
    {
     "data": {
      "text/plain": [
       "'latha is veri multi talent girl.sh is good at mani skill like danc , run , sing , playing.sh also like eat pav bhagi . she ha a habit of fish and swim too.besid all thi , she is a wonder at cook too .'"
      ]
     },
     "execution_count": 17,
     "metadata": {},
     "output_type": "execute_result"
    }
   ],
   "source": [
    "#using stemming in nltk\n",
    "\n",
    "#step1: Word tokenizing\n",
    "\n",
    "\n",
    "#step2: getting the base form for each token using stemmer\n",
    "\n",
    "\n",
    "words = ' '.join([stemmer.stem(w) for w in nltk.tokenize.word_tokenize(text)])\n",
    "words\n",
    "\n",
    "\n",
    "\n",
    "#step3: joining all words in a list into string using 'join()'"
   ]
  },
  {
   "cell_type": "code",
   "execution_count": 4,
   "metadata": {},
   "outputs": [
    {
     "data": {
      "text/plain": [
       "'Latha be very multi talented girl . she be good at many skill like dancing , running , singing , play . she also like eat Pav Bhagi . she have a \\n habit of fishing and swim too . besides all this , she be a wonderful at cook too . \\n'"
      ]
     },
     "execution_count": 4,
     "metadata": {},
     "output_type": "execute_result"
    }
   ],
   "source": [
    "#using lemmatisation in spacy\n",
    "\n",
    "\n",
    "#step1: Creating the object for the given text\n",
    "doc = nlp(text)\n",
    "\n",
    "words = ' '.join([t.lemma_ for t in doc])\n",
    "words\n",
    "\n",
    "#step2: getting the base form for each token using spacy 'lemma_'\n",
    "\n",
    "\n",
    "\n",
    "\n",
    "#step3: joining all words in a list into string using 'join()'"
   ]
  },
  {
   "cell_type": "code",
   "execution_count": null,
   "metadata": {},
   "outputs": [],
   "source": []
  }
 ],
 "metadata": {
  "kernelspec": {
   "display_name": ".venv",
   "language": "python",
   "name": "python3"
  },
  "language_info": {
   "codemirror_mode": {
    "name": "ipython",
    "version": 3
   },
   "file_extension": ".py",
   "mimetype": "text/x-python",
   "name": "python",
   "nbconvert_exporter": "python",
   "pygments_lexer": "ipython3",
   "version": "3.11.2"
  },
  "orig_nbformat": 4
 },
 "nbformat": 4,
 "nbformat_minor": 2
}
