{
 "cells": [
  {
   "cell_type": "code",
   "execution_count": 1,
   "metadata": {},
   "outputs": [],
   "source": [
    "import spacy"
   ]
  },
  {
   "cell_type": "code",
   "execution_count": 2,
   "metadata": {},
   "outputs": [],
   "source": [
    "nlp = spacy.load(\"en_core_web_sm\")"
   ]
  },
  {
   "cell_type": "code",
   "execution_count": 13,
   "metadata": {},
   "outputs": [
    {
     "name": "stdout",
     "output_type": "stream",
     "text": [
      "Hello | INTJ | interjection | interjection\n",
      "My | PRON | pronoun | pronoun, possessive\n",
      "name | NOUN | noun | noun, singular or mass\n",
      "is | AUX | auxiliary | verb, 3rd person singular present\n",
      "Virendra | PROPN | proper noun | noun, proper singular\n",
      ". | PUNCT | punctuation | punctuation mark, sentence closer\n",
      "I | PRON | pronoun | pronoun, personal\n",
      "am | AUX | auxiliary | verb, non-3rd person singular present\n",
      "from | ADP | adposition | conjunction, subordinating or preposition\n",
      "India | PROPN | proper noun | noun, proper singular\n",
      ". | PUNCT | punctuation | punctuation mark, sentence closer\n",
      "I | PRON | pronoun | pronoun, personal\n",
      "like | VERB | verb | verb, non-3rd person singular present\n",
      "playing | VERB | verb | verb, gerund or present participle\n",
      "mobiles | NOUN | noun | noun, plural\n",
      "games | NOUN | noun | noun, plural\n",
      ". | PUNCT | punctuation | punctuation mark, sentence closer\n",
      "I | PRON | pronoun | pronoun, personal\n",
      "was | AUX | auxiliary | verb, past tense\n",
      "good | ADJ | adjective | adjective (English), other noun-modifier (Chinese)\n",
      "in | ADP | adposition | conjunction, subordinating or preposition\n",
      "outdoor | ADJ | adjective | adjective (English), other noun-modifier (Chinese)\n",
      "game | NOUN | noun | noun, singular or mass\n",
      ". | PUNCT | punctuation | punctuation mark, sentence closer\n"
     ]
    }
   ],
   "source": [
    "doc = nlp(\"Hello My name is Virendra. I am from India. I like playing mobiles games. I was good in outdoor game.\")\n",
    "\n",
    "for token in doc:\n",
    "    print(token, '|',token.pos_, \"|\", spacy.explain(token.pos_), \"|\",spacy.explain(token.tag_))"
   ]
  },
  {
   "cell_type": "code",
   "execution_count": null,
   "metadata": {},
   "outputs": [],
   "source": []
  },
  {
   "cell_type": "code",
   "execution_count": null,
   "metadata": {},
   "outputs": [],
   "source": []
  },
  {
   "cell_type": "code",
   "execution_count": null,
   "metadata": {},
   "outputs": [],
   "source": []
  },
  {
   "cell_type": "code",
   "execution_count": null,
   "metadata": {},
   "outputs": [],
   "source": []
  },
  {
   "cell_type": "code",
   "execution_count": null,
   "metadata": {},
   "outputs": [],
   "source": []
  },
  {
   "cell_type": "code",
   "execution_count": null,
   "metadata": {},
   "outputs": [],
   "source": []
  }
 ],
 "metadata": {
  "kernelspec": {
   "display_name": ".venv",
   "language": "python",
   "name": "python3"
  },
  "language_info": {
   "codemirror_mode": {
    "name": "ipython",
    "version": 3
   },
   "file_extension": ".py",
   "mimetype": "text/x-python",
   "name": "python",
   "nbconvert_exporter": "python",
   "pygments_lexer": "ipython3",
   "version": "3.11.2"
  },
  "orig_nbformat": 4
 },
 "nbformat": 4,
 "nbformat_minor": 2
}
