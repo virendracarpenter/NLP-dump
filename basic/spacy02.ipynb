{
 "cells": [
  {
   "cell_type": "code",
   "execution_count": 3,
   "metadata": {},
   "outputs": [],
   "source": [
    "import spacy\n",
    "\n",
    "nlp = spacy.blank('en')"
   ]
  },
  {
   "attachments": {},
   "cell_type": "markdown",
   "metadata": {},
   "source": [
    "Exercise\n",
    "(1) Think stats is a free book to study statistics (https://greenteapress.com/thinkstats2/thinkstats2.pdf)\n",
    "\n",
    "This book has references to many websites from where you can download free datasets. You are an NLP engineer working for some company and you want to collect all dataset websites from this book. To keep exercise simple you are given a paragraph from this book and you want to grab all urls from this paragraph using spacy"
   ]
  },
  {
   "cell_type": "code",
   "execution_count": 14,
   "metadata": {},
   "outputs": [
    {
     "data": {
      "text/plain": [
       "['http://www.data.gov/',\n",
       " 'http://www.science',\n",
       " 'http://data.gov.uk/.',\n",
       " 'http://www3.norc.org/gss+website/',\n",
       " 'http://www.europeansocialsurvey.org/.']"
      ]
     },
     "execution_count": 14,
     "metadata": {},
     "output_type": "execute_result"
    }
   ],
   "source": [
    "text='''\n",
    "Look for data to help you address the question. Governments are good\n",
    "sources because data from public research is often freely available. Good\n",
    "places to start include http://www.data.gov/, and http://www.science.\n",
    "gov/, and in the United Kingdom, http://data.gov.uk/.\n",
    "Two of my favorite data sets are the General Social Survey at http://www3.norc.org/gss+website/, \n",
    "and the European Social Survey at http://www.europeansocialsurvey.org/.\n",
    "'''\n",
    "\n",
    "# TODO: Write code here\n",
    "# Hint: token has an attribute that can be used to detect a url\n",
    "\n",
    "doc = nlp(text)\n",
    "[t.text for t in doc if t.like_url]"
   ]
  },
  {
   "cell_type": "code",
   "execution_count": null,
   "metadata": {},
   "outputs": [],
   "source": []
  },
  {
   "attachments": {},
   "cell_type": "markdown",
   "metadata": {},
   "source": [
    "(2) Extract all money transaction from below sentence along with currency. Output should be,\n",
    "\n",
    "two $\n",
    "\n",
    "500 €"
   ]
  },
  {
   "cell_type": "code",
   "execution_count": 35,
   "metadata": {},
   "outputs": [
    {
     "data": {
      "text/plain": [
       "['two $', '500 €']"
      ]
     },
     "execution_count": 35,
     "metadata": {},
     "output_type": "execute_result"
    }
   ],
   "source": [
    "transactions = \"Tony gave two $ to Peter, Bruce gave 500 € to Steve\"\n",
    "\n",
    "# TODO: Write code here\n",
    "# Hint: Use token.i for the index of a token and token.is_currency for currency symbol detection\n",
    "doc = nlp(transactions)\n",
    "[(t.text+' '+doc[t.i+1].text) for t in doc if t.like_num and doc[t.i+1]]\n",
    "\n"
   ]
  },
  {
   "attachments": {},
   "cell_type": "markdown",
   "metadata": {},
   "source": []
  },
  {
   "cell_type": "code",
   "execution_count": null,
   "metadata": {},
   "outputs": [],
   "source": [
    "!python -m spacy download en_core_web_sm"
   ]
  },
  {
   "cell_type": "code",
   "execution_count": 33,
   "metadata": {},
   "outputs": [],
   "source": [
    "nlp = spacy.load('en_core_web_sm')"
   ]
  },
  {
   "cell_type": "code",
   "execution_count": 52,
   "metadata": {},
   "outputs": [
    {
     "data": {
      "text/plain": [
       "['tok2vec', 'tagger', 'parser', 'attribute_ruler', 'lemmatizer', 'ner']"
      ]
     },
     "execution_count": 52,
     "metadata": {},
     "output_type": "execute_result"
    }
   ],
   "source": [
    "# nlp.pipeline\n",
    "nlp.pipe_names"
   ]
  },
  {
   "cell_type": "code",
   "execution_count": null,
   "metadata": {},
   "outputs": [],
   "source": []
  },
  {
   "cell_type": "code",
   "execution_count": 44,
   "metadata": {},
   "outputs": [
    {
     "name": "stdout",
     "output_type": "stream",
     "text": [
      "This  |  PRON  |  this\n",
      "is  |  AUX  |  be\n",
      "just  |  ADV  |  just\n",
      "a  |  DET  |  a\n",
      "starting  |  NOUN  |  starting\n",
      "point  |  NOUN  |  point\n",
      ".  |  PUNCT  |  .\n",
      "Similar  |  ADJ  |  similar\n",
      "to  |  PART  |  to\n",
      "spreadsheet  |  VERB  |  spreadsheet\n",
      "software  |  NOUN  |  software\n",
      ",  |  PUNCT  |  ,\n",
      "pandas  |  VERB  |  panda\n",
      "represents  |  VERB  |  represent\n",
      "data  |  NOUN  |  datum\n",
      "as  |  ADP  |  as\n",
      "a  |  DET  |  a\n",
      "table  |  NOUN  |  table\n",
      "with  |  ADP  |  with\n",
      "columns  |  NOUN  |  column\n",
      "and  |  CCONJ  |  and\n",
      "rows  |  NOUN  |  row\n",
      ".  |  PUNCT  |  .\n",
      "Apart  |  ADV  |  apart\n",
      "from  |  ADP  |  from\n",
      "the  |  DET  |  the\n",
      "representation  |  NOUN  |  representation\n",
      ",  |  PUNCT  |  ,\n",
      "also  |  ADV  |  also\n",
      "the  |  DET  |  the\n",
      "data  |  NOUN  |  datum\n",
      "manipulations  |  NOUN  |  manipulation\n",
      "and  |  CCONJ  |  and\n",
      "calculations  |  NOUN  |  calculation\n",
      "you  |  PRON  |  you\n",
      "would  |  AUX  |  would\n",
      "do  |  VERB  |  do\n",
      "in  |  ADP  |  in\n",
      "spreadsheet  |  NOUN  |  spreadsheet\n",
      "software  |  NOUN  |  software\n",
      "are  |  AUX  |  be\n",
      "supported  |  VERB  |  support\n",
      "by  |  ADP  |  by\n",
      "pandas  |  NOUN  |  panda\n",
      ".  |  PUNCT  |  .\n",
      "Continue  |  VERB  |  continue\n",
      "reading  |  VERB  |  read\n",
      "the  |  DET  |  the\n",
      "next  |  ADJ  |  next\n",
      "tutorials  |  NOUN  |  tutorial\n",
      "to  |  PART  |  to\n",
      "get  |  AUX  |  get\n",
      "started  |  VERB  |  start\n",
      "!  |  PUNCT  |  !\n",
      "Make  |  VERB  |  make\n",
      "money  |  NOUN  |  money\n",
      "daily  |  ADV  |  daily\n",
      "by  |  ADP  |  by\n",
      "500  |  NUM  |  500\n",
      "$  |  SYM  |  $\n"
     ]
    }
   ],
   "source": [
    "txt = \"This is just a starting point. Similar to spreadsheet software, pandas represents data as a table with columns and rows. Apart from the representation, also the data manipulations and calculations you would do in spreadsheet software are supported by pandas. Continue reading the next tutorials to get started! Make money daily by 500 $\"\n",
    "\n",
    "doc = nlp(txt)\n",
    "\n",
    "for t in doc:\n",
    "    print(t, ' | ', t.pos_, ' | ', t.lemma_)"
   ]
  },
  {
   "cell_type": "code",
   "execution_count": 45,
   "metadata": {},
   "outputs": [
    {
     "name": "stdout",
     "output_type": "stream",
     "text": [
      "pandas represents  :  ORG  :  Companies, agencies, institutions, etc.\n",
      "daily  :  DATE  :  Absolute or relative dates or periods\n",
      "500 $  :  MONEY  :  Monetary values, including unit\n"
     ]
    }
   ],
   "source": [
    "for ent in doc.ents:\n",
    "    print(ent.text, \" : \", ent.label_, \" : \", spacy.explain(ent.label_))"
   ]
  },
  {
   "cell_type": "code",
   "execution_count": 50,
   "metadata": {},
   "outputs": [
    {
     "data": {
      "text/html": [
       "<span class=\"tex2jax_ignore\"><div class=\"entities\" style=\"line-height: 2.5; direction: ltr\">This is just a starting point. Similar to spreadsheet software, \n",
       "<mark class=\"entity\" style=\"background: #7aecec; padding: 0.45em 0.6em; margin: 0 0.25em; line-height: 1; border-radius: 0.35em;\">\n",
       "    pandas represents\n",
       "    <span style=\"font-size: 0.8em; font-weight: bold; line-height: 1; border-radius: 0.35em; vertical-align: middle; margin-left: 0.5rem\">ORG</span>\n",
       "</mark>\n",
       " data as a table with columns and rows. Apart from the representation, also the data manipulations and calculations you would do in spreadsheet software are supported by pandas. Continue reading the next tutorials to get started! Make money \n",
       "<mark class=\"entity\" style=\"background: #bfe1d9; padding: 0.45em 0.6em; margin: 0 0.25em; line-height: 1; border-radius: 0.35em;\">\n",
       "    daily\n",
       "    <span style=\"font-size: 0.8em; font-weight: bold; line-height: 1; border-radius: 0.35em; vertical-align: middle; margin-left: 0.5rem\">DATE</span>\n",
       "</mark>\n",
       " by \n",
       "<mark class=\"entity\" style=\"background: #e4e7d2; padding: 0.45em 0.6em; margin: 0 0.25em; line-height: 1; border-radius: 0.35em;\">\n",
       "    500 $\n",
       "    <span style=\"font-size: 0.8em; font-weight: bold; line-height: 1; border-radius: 0.35em; vertical-align: middle; margin-left: 0.5rem\">MONEY</span>\n",
       "</mark>\n",
       "</div></span>"
      ],
      "text/plain": [
       "<IPython.core.display.HTML object>"
      ]
     },
     "metadata": {},
     "output_type": "display_data"
    }
   ],
   "source": [
    "from spacy import displacy\n",
    "\n",
    "displacy.render(doc, style='ent')"
   ]
  },
  {
   "cell_type": "code",
   "execution_count": null,
   "metadata": {},
   "outputs": [],
   "source": []
  }
 ],
 "metadata": {
  "kernelspec": {
   "display_name": ".venv",
   "language": "python",
   "name": "python3"
  },
  "language_info": {
   "codemirror_mode": {
    "name": "ipython",
    "version": 3
   },
   "file_extension": ".py",
   "mimetype": "text/x-python",
   "name": "python",
   "nbconvert_exporter": "python",
   "pygments_lexer": "ipython3",
   "version": "3.11.2"
  },
  "orig_nbformat": 4
 },
 "nbformat": 4,
 "nbformat_minor": 2
}
