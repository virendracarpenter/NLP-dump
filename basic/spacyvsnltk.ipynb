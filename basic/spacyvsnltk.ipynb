{
 "cells": [
  {
   "cell_type": "code",
   "execution_count": null,
   "id": "96d33162",
   "metadata": {},
   "outputs": [],
   "source": [
    "# pip install spacy"
   ]
  },
  {
   "cell_type": "code",
   "execution_count": null,
   "id": "1a0e450c",
   "metadata": {},
   "outputs": [],
   "source": [
    "# pip install nltk"
   ]
  },
  {
   "cell_type": "code",
   "execution_count": 6,
   "id": "ee7eeae8",
   "metadata": {},
   "outputs": [],
   "source": [
    "# python -m spacy download en"
   ]
  },
  {
   "cell_type": "code",
   "execution_count": 28,
   "id": "b0f51d0d",
   "metadata": {},
   "outputs": [],
   "source": [
    "import spacy"
   ]
  },
  {
   "cell_type": "code",
   "execution_count": 4,
   "id": "fcb356d5",
   "metadata": {},
   "outputs": [],
   "source": [
    "nlp = spacy.load(\"en_core_web_sm\")\n",
    "\n",
    "doc = nlp('I loves dal bati of my home. Mr. Dude loves fast food like pizza etc. of indore')"
   ]
  },
  {
   "cell_type": "code",
   "execution_count": 5,
   "id": "c8463b67",
   "metadata": {},
   "outputs": [
    {
     "name": "stdout",
     "output_type": "stream",
     "text": [
      "I loves dal bati of my home.\n",
      "Mr. Dude loves fast food like pizza etc. of indore\n"
     ]
    }
   ],
   "source": [
    "for sentence in doc.sents:\n",
    "    print(sentence)"
   ]
  },
  {
   "cell_type": "code",
   "execution_count": 6,
   "id": "e6dad546",
   "metadata": {},
   "outputs": [
    {
     "name": "stdout",
     "output_type": "stream",
     "text": [
      "I\n",
      "loves\n",
      "dal\n",
      "bati\n",
      "of\n",
      "my\n",
      "home\n",
      ".\n",
      "Mr.\n",
      "Dude\n",
      "loves\n",
      "fast\n",
      "food\n",
      "like\n",
      "pizza\n",
      "etc\n",
      ".\n",
      "of\n",
      "indore\n"
     ]
    }
   ],
   "source": [
    "for sentence in doc.sents:\n",
    "    for word in sentence:\n",
    "        print(word)"
   ]
  },
  {
   "cell_type": "code",
   "execution_count": 23,
   "id": "4315944d",
   "metadata": {},
   "outputs": [],
   "source": [
    "import nltk\n",
    "# nltk.download('punkt')\n",
    "# nltk.download()"
   ]
  },
  {
   "cell_type": "code",
   "execution_count": 25,
   "id": "8b1b3ed6",
   "metadata": {},
   "outputs": [],
   "source": [
    "from nltk.tokenize import sent_tokenize, word_tokenize"
   ]
  },
  {
   "cell_type": "code",
   "execution_count": 26,
   "id": "743dbe02",
   "metadata": {},
   "outputs": [
    {
     "data": {
      "text/plain": [
       "['I loves dal bati of my home.',\n",
       " 'Mr. Dude loves fast food like pizza etc.',\n",
       " 'of indore']"
      ]
     },
     "execution_count": 26,
     "metadata": {},
     "output_type": "execute_result"
    }
   ],
   "source": [
    "s = 'I loves dal bati of my home. Mr. Dude loves fast food like pizza etc. of indore'\n",
    "sent_tokenize(s)"
   ]
  },
  {
   "cell_type": "markdown",
   "id": "ffc56727",
   "metadata": {},
   "source": []
  },
  {
   "cell_type": "code",
   "execution_count": 27,
   "id": "b683e2a9",
   "metadata": {},
   "outputs": [
    {
     "data": {
      "text/plain": [
       "['I',\n",
       " 'loves',\n",
       " 'dal',\n",
       " 'bati',\n",
       " 'of',\n",
       " 'my',\n",
       " 'home',\n",
       " '.',\n",
       " 'Mr.',\n",
       " 'Dude',\n",
       " 'loves',\n",
       " 'fast',\n",
       " 'food',\n",
       " 'like',\n",
       " 'pizza',\n",
       " 'etc',\n",
       " '.',\n",
       " 'of',\n",
       " 'indore']"
      ]
     },
     "execution_count": 27,
     "metadata": {},
     "output_type": "execute_result"
    }
   ],
   "source": [
    "word_tokenize(s)"
   ]
  },
  {
   "cell_type": "code",
   "execution_count": null,
   "id": "45da7c5b",
   "metadata": {},
   "outputs": [],
   "source": []
  },
  {
   "cell_type": "code",
   "execution_count": null,
   "id": "bab990e0",
   "metadata": {},
   "outputs": [],
   "source": []
  },
  {
   "cell_type": "code",
   "execution_count": null,
   "id": "2c319df7",
   "metadata": {},
   "outputs": [],
   "source": []
  },
  {
   "cell_type": "code",
   "execution_count": null,
   "id": "db4b8a96",
   "metadata": {},
   "outputs": [],
   "source": []
  },
  {
   "cell_type": "code",
   "execution_count": null,
   "id": "0715bee6",
   "metadata": {},
   "outputs": [],
   "source": []
  }
 ],
 "metadata": {
  "kernelspec": {
   "display_name": "Python 3 (ipykernel)",
   "language": "python",
   "name": "python3"
  },
  "language_info": {
   "codemirror_mode": {
    "name": "ipython",
    "version": 3
   },
   "file_extension": ".py",
   "mimetype": "text/x-python",
   "name": "python",
   "nbconvert_exporter": "python",
   "pygments_lexer": "ipython3",
   "version": "3.11.2"
  }
 },
 "nbformat": 4,
 "nbformat_minor": 5
}
