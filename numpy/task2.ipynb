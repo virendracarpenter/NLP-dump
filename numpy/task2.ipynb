{
 "cells": [
  {
   "cell_type": "code",
   "execution_count": 1,
   "metadata": {},
   "outputs": [],
   "source": [
    "import pandas as pd"
   ]
  },
  {
   "cell_type": "code",
   "execution_count": 6,
   "metadata": {},
   "outputs": [],
   "source": [
    "df = pd.read_csv('../ML/canada_pci.csv')"
   ]
  },
  {
   "cell_type": "code",
   "execution_count": 12,
   "metadata": {},
   "outputs": [
    {
     "name": "stdout",
     "output_type": "stream",
     "text": [
      "18987.38241\n",
      "18987.38241\n"
     ]
    }
   ],
   "source": [
    "def details(year):\n",
    "    # average_income = df['per_capita_income'].mean()\n",
    "\n",
    "    df_year = df[df['year'] == year]\n",
    "    average_income = df_year['per_capita_income'].mean() # Calculate the average per person income\n",
    "    income_distribution = df_year['per_capita_income'].median()\n",
    "    print(average_income)\n",
    "    print(income_distribution)\n",
    "    \n",
    "details(2000)"
   ]
  },
  {
   "cell_type": "code",
   "execution_count": 17,
   "metadata": {},
   "outputs": [
    {
     "name": "stdout",
     "output_type": "stream",
     "text": [
      "{'Sum': 45500, 'Mean': 6500.0, 'Variance': 1166666.6666666667, 'Standard Deviation': 1080.1234497346434, 'Product': 7928498660533338112, 'Minimum': 5000, 'Maximum': 8000, 'All': True, 'Any': True}\n"
     ]
    }
   ],
   "source": [
    "import pandas as pd\n",
    "\n",
    "data = {\n",
    "    'Year': [2015, 2016, 2017, 2018, 2019, 2020, 2021],\n",
    "    'Per Capita Income': [5000, 5500, 6000, 6500, 7000, 7500, 8000]\n",
    "}\n",
    "\n",
    "df = pd.DataFrame(data)\n",
    "df.to_csv('per_capita_income.csv', index=False)\n",
    "\n",
    "def calculate_statistics(filename):\n",
    "    df = pd.read_csv(filename)\n",
    "    income_column = df['Per Capita Income']\n",
    "    \n",
    "    statistics = {\n",
    "        'Sum': income_column.sum(),\n",
    "        'Mean': income_column.mean(),\n",
    "        'Variance': income_column.var(),\n",
    "        'Standard Deviation': income_column.std(),\n",
    "        'Product': income_column.prod(),\n",
    "        'Minimum': income_column.min(),\n",
    "        'Maximum': income_column.max(),\n",
    "        'All': income_column.all(),\n",
    "        'Any': income_column.any()\n",
    "    }\n",
    "    \n",
    "    return statistics\n",
    "\n",
    "filename = 'per_capita_income.csv'\n",
    "statistics = calculate_statistics(filename)\n",
    "print(statistics)\n"
   ]
  },
  {
   "cell_type": "code",
   "execution_count": null,
   "metadata": {},
   "outputs": [],
   "source": []
  },
  {
   "cell_type": "code",
   "execution_count": null,
   "metadata": {},
   "outputs": [],
   "source": []
  },
  {
   "cell_type": "code",
   "execution_count": null,
   "metadata": {},
   "outputs": [],
   "source": []
  },
  {
   "cell_type": "code",
   "execution_count": null,
   "metadata": {},
   "outputs": [],
   "source": []
  }
 ],
 "metadata": {
  "kernelspec": {
   "display_name": ".venv",
   "language": "python",
   "name": "python3"
  },
  "language_info": {
   "codemirror_mode": {
    "name": "ipython",
    "version": 3
   },
   "file_extension": ".py",
   "mimetype": "text/x-python",
   "name": "python",
   "nbconvert_exporter": "python",
   "pygments_lexer": "ipython3",
   "version": "3.11.2"
  },
  "orig_nbformat": 4
 },
 "nbformat": 4,
 "nbformat_minor": 2
}
